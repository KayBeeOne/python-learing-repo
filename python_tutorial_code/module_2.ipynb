{
 "cells": [
  {
   "cell_type": "code",
   "execution_count": 1,
   "metadata": {},
   "outputs": [
    {
     "name": "stdout",
     "output_type": "stream",
     "text": [
      "My public IP address is: 172.166.156.97\n"
     ]
    }
   ],
   "source": [
    "# This example requires the requests library be installed.  You can learn more\n",
    "# about the Requests library here: http://docs.python-requests.org/en/latest/\n",
    "import requests\n",
    "from requests import get\n",
    "\n",
    "ip = get(\"https://api.ipify.org\").content.decode(\"utf8\")\n",
    "print(\"My public IP address is: {}\".format(ip))\n"
   ]
  }
 ],
 "metadata": {
  "kernelspec": {
   "display_name": "Python 3",
   "language": "python",
   "name": "python3"
  },
  "language_info": {
   "codemirror_mode": {
    "name": "ipython",
    "version": 3
   },
   "file_extension": ".py",
   "mimetype": "text/x-python",
   "name": "python",
   "nbconvert_exporter": "python",
   "pygments_lexer": "ipython3",
   "version": "3.12.1"
  }
 },
 "nbformat": 4,
 "nbformat_minor": 2
}
